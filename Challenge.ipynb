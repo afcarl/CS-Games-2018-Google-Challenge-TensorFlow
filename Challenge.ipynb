{
 "cells": [
  {
   "cell_type": "markdown",
   "metadata": {},
   "source": [
    "# Coding Google's Heat Dissipation Challenge in TensorFlow\n",
    "\n",
    "> This repository is inspired from [Joel Grus's fizz buzz in TensorFlow](http://joelgrus.com/2016/05/23/fizz-buzz-in-tensorflow/). \n",
    "\n",
    "Every year, Google has this challenge [at the CS Games](https://2018.csgames.org/) where you need to find errors in some code. A classic. It's not a competition, just a side challenge simply awaiting to be solved by whoever would like to do so in between the competitions.\n",
    "\n",
    "So I decided to code this challenge in TensorFlow. It's about heat dissipation. For one of the challenges, some C++ code is given: we have a 5x5 matrix on which we need to perform heat dissipation. There are threads and many broken things. We are asked to find the flaws in the code and repair it. \n",
    "\n",
    "For fun's sake, let's instead model the problem with TensorFlow!"
   ]
  },
  {
   "cell_type": "code",
   "execution_count": 1,
   "metadata": {},
   "outputs": [
    {
     "data": {
      "image/png": "[encoded data removed]",
      "text/plain": [
       "<matplotlib.figure.Figure at 0x7f3308674978>"
      ]
     },
     "metadata": {},
     "output_type": "display_data"
    }
   ],
   "source": [
    "import tensorflow as tf\n",
    "import numpy as np\n",
    "import matplotlib\n",
    "import matplotlib.pyplot as plt\n",
    "\n",
    "import time\n",
    "\n",
    "\n",
    "# The matrix.\n",
    "border_size = 5\n",
    "d2_input_matrix = np.eye(border_size)\n",
    "input_matrix = np.expand_dims(np.expand_dims(d2_input_matrix, axis=-1), axis=0)\n",
    "\n",
    "\n",
    "# Plotting.\n",
    "%matplotlib inline\n",
    "font = {\n",
    "    'family': 'Bitstream Vera Sans',\n",
    "    'weight': 'bold',\n",
    "    'size': 18\n",
    "}\n",
    "matplotlib.rc('font', **font)\n",
    "width = 12\n",
    "height = 12\n",
    "plt.figure(figsize=(width, height))\n",
    "plt.imshow(d2_input_matrix, cmap='hot')\n",
    "plt.colorbar()\n",
    "plt.title(\"Matrix of heat to be dissipated\")\n",
    "plt.show()"
   ]
  },
  {
   "cell_type": "markdown",
   "metadata": {},
   "source": [
    "## Heat dissipation with TensorFlow: initializing the matrix in the GPU\n",
    "\n",
    "Note: test if you have a valid TensorFlow-GPU installation. If GPU is supported, TensorFlow will automatically chose the GPU if it is available."
   ]
  },
  {
   "cell_type": "code",
   "execution_count": 2,
   "metadata": {},
   "outputs": [
    {
     "name": "stdout",
     "output_type": "stream",
     "text": [
      "Tf matrix initialized.\n"
     ]
    }
   ],
   "source": [
    "tf.reset_default_graph()\n",
    "sess = tf.InteractiveSession()  # sess = tf.Session()\n",
    "\n",
    "tf_input = tf.Variable(\n",
    "    tf.constant(0.0, shape=[1, border_size, border_size, 1]),\n",
    "    trainable=False,\n",
    "    name=\"Input\"\n",
    ")\n",
    "\n",
    "tf_input_placeholder = tf.placeholder(tf.float32, shape=[1, border_size, border_size, 1])\n",
    "tf_input_init = tf_input.assign(tf_input_placeholder)\n",
    "_ = sess.run(\n",
    "    tf_input_init, \n",
    "    feed_dict={\n",
    "        tf_input_placeholder: input_matrix\n",
    "    }\n",
    ")\n",
    "print(\"Tf matrix initialized.\")"
   ]
  },
  {
   "cell_type": "markdown",
   "metadata": {},
   "source": [
    "Now, let's create the operation to apply the heat dissipation filter to the matrix. We need to initialize the dissipation filter in the GPU, too. We use a dissipation filter that looks like a `+` and iterate. Applying this square-ish filter many times does the effect of a gaussian blur dissipation. "
   ]
  },
  {
   "cell_type": "code",
   "execution_count": 3,
   "metadata": {
    "scrolled": false
   },
   "outputs": [
    {
     "name": "stdout",
     "output_type": "stream",
     "text": [
      "Tf dissipation filter initialized.\n"
     ]
    }
   ],
   "source": [
    "precision = 1e-5\n",
    "dissipation_filter = np.array([\n",
    "    [0,         precision,         0        ],\n",
    "    [precision, 1 - 4 * precision, precision],\n",
    "    [0,         precision,         0        ]\n",
    "], dtype=np.float32)  # Sums up to 1.0\n",
    "dissipation_filter = np.expand_dims(dissipation_filter, axis=-1)\n",
    "dissipation_filter = np.expand_dims(dissipation_filter, axis=-1)\n",
    "\n",
    "tf_dissipation_filter = tf.convert_to_tensor(dissipation_filter)\n",
    "print(\"Tf dissipation filter initialized.\")\n",
    "\n",
    "def dissipate_heat(tf_input, tf_dissipation_filter):\n",
    "    # Mirror padding on borders and corners for idealized physical setting.\n",
    "    tf_padded = tf_input\n",
    "    _, a0, a1, _ = tf_padded.get_shape()\n",
    "    tf_padded = tf.concat([tf_padded[:, :, 0:1, :], tf_padded, tf_padded[:, :, a1-1:a1, :]], axis=2)\n",
    "    tf_padded = tf.concat([tf_padded[:, 0:1, :, :], tf_padded, tf_padded[:, a0-1:a0, :, :]], axis=1)\n",
    "    \n",
    "    # Apply one heat dissipation, which removes borders because of valid padding.\n",
    "    tf_changed_input = tf.nn.conv2d(\n",
    "        tf_padded,\n",
    "        tf_dissipation_filter, \n",
    "        strides=[1, 1, 1, 1],\n",
    "        padding=\"VALID\")\n",
    "\n",
    "    return tf_changed_input"
   ]
  },
  {
   "cell_type": "markdown",
   "metadata": {},
   "source": [
    "## Let's use a TensorFlow loop to pass the filter many times\n",
    "\n",
    "The number of passes we do is similar to moving forward in time. "
   ]
  },
  {
   "cell_type": "code",
   "execution_count": 4,
   "metadata": {},
   "outputs": [],
   "source": [
    "tf_nb_passes = tf.placeholder(tf.int32)\n",
    "\n",
    "i0 = tf.constant(0)\n",
    "m0 = tf_input\n",
    "c = lambda i, m: i < tf_nb_passes\n",
    "b = lambda i, m: [i+1, dissipate_heat(m, tf_dissipation_filter)]\n",
    "_, tf_changed_input = tf.while_loop(\n",
    "    c, b, loop_vars=[i0, m0],\n",
    "    shape_invariants=[i0.get_shape(), m0.get_shape()])\n",
    "\n",
    "# Updating tf_input to keep progress looped so far.\n",
    "tf_dissipate_heat = tf_input.assign(tf_changed_input)\n",
    "\n",
    "_ = \"\"\"\n",
    "nb_passes = tf.placeholder(tf.int32)\n",
    "\n",
    "# for i in range(NB_PASSES):\n",
    "#     result = sess.run(tf_dissipate_heat)\n",
    "\n",
    "i = tf.constant(0)\n",
    "condition = lambda i: tf.less(i, nb_passes)\n",
    "function = lambda i: dissipate_heat(tf_input, tf_dissipation_filter, i)\n",
    "loop = tf.while_loop(condition, function, [i])\n",
    "tf_result = loop[-1]\n",
    "\"\"\""
   ]
  },
  {
   "cell_type": "code",
   "execution_count": 5,
   "metadata": {},
   "outputs": [
    {
     "name": "stdout",
     "output_type": "stream",
     "text": [
      "Executing 100000 iterations took 4.603790283203125 seconds.\n"
     ]
    }
   ],
   "source": [
    "start_time = time.time()\n",
    "\n",
    "TIME_UNITS = 1.0  # Let's loop for 1 physical unit of time. \n",
    "nb_passes = int(round(TIME_UNITS/precision))\n",
    "\n",
    "result = sess.run(\n",
    "    tf_dissipate_heat, \n",
    "    feed_dict={\n",
    "        tf_nb_passes: nb_passes\n",
    "    }\n",
    ")\n",
    "\n",
    "end_time = time.time()\n",
    "print(\"Executing {} iterations took {} seconds.\".format(nb_passes, time.time() - start_time))"
   ]
  },
  {
   "cell_type": "markdown",
   "metadata": {},
   "source": [
    "Note: the code is optimized to work with a GPU, but the above time is calculated on an Intel i7 quad core CPU. \n",
    "\n",
    "TensorFlow will still use multiple cores despite running on CPU. \n",
    "\n",
    "## Plotting the heat dissipation result"
   ]
  },
  {
   "cell_type": "code",
   "execution_count": 6,
   "metadata": {},
   "outputs": [
    {
     "data": {
      "image/png": "[encoded data removed]",
      "text/plain": [
       "<matplotlib.figure.Figure at 0x7f32b0a5bf60>"
      ]
     },
     "metadata": {},
     "output_type": "display_data"
    }
   ],
   "source": [
    "font = {\n",
    "    'family': 'Bitstream Vera Sans',\n",
    "    'weight': 'bold',\n",
    "    'size': 18\n",
    "}\n",
    "matplotlib.rc('font', **font)\n",
    "width = 12\n",
    "height = 12\n",
    "plt.figure(figsize=(width, height))\n",
    "plt.imshow(result[0, :, :, 0], cmap='hot')\n",
    "plt.colorbar()\n",
    "plt.clim(0, 1)\n",
    "plt.title(\"Heat dissipation after {} passes with \\n\"\n",
    "          \"mirroring edges\".format(nb_passes))\n",
    "plt.show()"
   ]
  },
  {
   "cell_type": "markdown",
   "metadata": {},
   "source": [
    "Because of the mirroring edges that we added, it's possible to see that heat is more kept on the corners of the identity heat matrix. \n",
    "\n",
    "## Finally, check if numerical errors are reasonnable"
   ]
  },
  {
   "cell_type": "code",
   "execution_count": 7,
   "metadata": {},
   "outputs": [
    {
     "name": "stdout",
     "output_type": "stream",
     "text": [
      "Approximative relative error is of 0.05558967590332031% (a.k.a. approximately 99.94441032409668% correct).\n"
     ]
    }
   ],
   "source": [
    "res = np.sum(result)\n",
    "ref = np.sum(input_matrix)\n",
    "relative_error = abs(ref - res) / ref * 100\n",
    "print(\"Approximative relative error is of {}% (a.k.a. approximately {}% correct).\".format(\n",
    "    relative_error, \n",
    "    100 - relative_error))"
   ]
  },
  {
   "cell_type": "markdown",
   "metadata": {},
   "source": [
    "## Conclusion\n",
    "\n",
    "Numerical errors could be compared to a reference value to find the best tradeoff between the `precision` and the `nb_iters` variables (see above). Those two parameters are inversely linked one to another to apply the transformation on the same time difference. On one hand, a precision too small will require so many iterations that we'll accumulate numerical errors such as calculated above, since the number of iterations needs to be higher. On the other hand, having a precision value too coarse (high value) will enable fewer iterations, thus accumulating less numerical errors, but more modeling errors, deviating from the true comportment which should be continuous. "
   ]
  },
  {
   "cell_type": "code",
   "execution_count": 8,
   "metadata": {},
   "outputs": [
    {
     "name": "stdout",
     "output_type": "stream",
     "text": [
      "[NbConvertApp] Converting notebook Challenge.ipynb to markdown\n",
      "[NbConvertApp] Support files will be in Challenge_files/\n",
      "[NbConvertApp] Making directory Challenge_files\n",
      "[NbConvertApp] Making directory Challenge_files\n",
      "[NbConvertApp] Writing 7349 bytes to Challenge.md\n"
     ]
    }
   ],
   "source": [
    "# Let's convert this notebook to a README for the GitHub project's title page:\n",
    "!jupyter nbconvert --to markdown Challenge.ipynb\n",
    "!mv Challenge.md README.md"
   ]
  }
 ],
 "metadata": {
  "kernelspec": {
   "display_name": "Python 3",
   "language": "python",
   "name": "python3"
  },
  "language_info": {
   "codemirror_mode": {
    "name": "ipython",
    "version": 3
   },
   "file_extension": ".py",
   "mimetype": "text/x-python",
   "name": "python",
   "nbconvert_exporter": "python",
   "pygments_lexer": "ipython3",
   "version": "3.6.5rc1"
  }
 },
 "nbformat": 4,
 "nbformat_minor": 2
}
